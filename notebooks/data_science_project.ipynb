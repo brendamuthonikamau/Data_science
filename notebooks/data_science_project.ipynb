{
 "cells": [
  {
   "cell_type": "code",
   "execution_count": null,
   "id": "43918005-9ab7-4ec6-ada6-76cb4f867c2c",
   "metadata": {},
   "outputs": [],
   "source": [
    "#You can create a DataFrame from a Python dictionary using from_dict function."
   ]
  },
  {
   "cell_type": "code",
   "execution_count": null,
   "id": "6c4ff7ae-9a18-4e72-812f-b19e66816e6f",
   "metadata": {},
   "outputs": [],
   "source": []
  },
  {
   "cell_type": "code",
   "execution_count": 1,
   "id": "47cf90d9-79df-4637-ac4d-baebf18c507f",
   "metadata": {},
   "outputs": [
    {
     "data": {
      "text/html": [
       "<div>\n",
       "<style scoped>\n",
       "    .dataframe tbody tr th:only-of-type {\n",
       "        vertical-align: middle;\n",
       "    }\n",
       "\n",
       "    .dataframe tbody tr th {\n",
       "        vertical-align: top;\n",
       "    }\n",
       "\n",
       "    .dataframe thead th {\n",
       "        text-align: right;\n",
       "    }\n",
       "</style>\n",
       "<table border=\"1\" class=\"dataframe\">\n",
       "  <thead>\n",
       "    <tr style=\"text-align: right;\">\n",
       "      <th></th>\n",
       "      <th>col_1</th>\n",
       "      <th>col_2</th>\n",
       "    </tr>\n",
       "  </thead>\n",
       "  <tbody>\n",
       "    <tr>\n",
       "      <th>0</th>\n",
       "      <td>3</td>\n",
       "      <td>a</td>\n",
       "    </tr>\n",
       "    <tr>\n",
       "      <th>1</th>\n",
       "      <td>2</td>\n",
       "      <td>b</td>\n",
       "    </tr>\n",
       "    <tr>\n",
       "      <th>2</th>\n",
       "      <td>1</td>\n",
       "      <td>c</td>\n",
       "    </tr>\n",
       "    <tr>\n",
       "      <th>3</th>\n",
       "      <td>0</td>\n",
       "      <td>d</td>\n",
       "    </tr>\n",
       "  </tbody>\n",
       "</table>\n",
       "</div>"
      ],
      "text/plain": [
       "   col_1 col_2\n",
       "0      3     a\n",
       "1      2     b\n",
       "2      1     c\n",
       "3      0     d"
      ]
     },
     "execution_count": 1,
     "metadata": {},
     "output_type": "execute_result"
    }
   ],
   "source": [
    "import pandas as pd\n",
    "\n",
    "data = {\"col_1\": [3, 2, 1, 0], \"col_2\": [\"a\", \"b\", \"c\", \"d\"]}\n",
    "pd.DataFrame.from_dict(data)"
   ]
  },
  {
   "cell_type": "code",
   "execution_count": null,
   "id": "78016729-48fc-4a28-a9eb-93bd42354260",
   "metadata": {},
   "outputs": [],
   "source": [
    "## keys to be index instead of the columns"
   ]
  },
  {
   "cell_type": "code",
   "execution_count": 2,
   "id": "08cb5dd0-32cd-430a-b41a-78657f05d72f",
   "metadata": {},
   "outputs": [
    {
     "data": {
      "text/html": [
       "<div>\n",
       "<style scoped>\n",
       "    .dataframe tbody tr th:only-of-type {\n",
       "        vertical-align: middle;\n",
       "    }\n",
       "\n",
       "    .dataframe tbody tr th {\n",
       "        vertical-align: top;\n",
       "    }\n",
       "\n",
       "    .dataframe thead th {\n",
       "        text-align: right;\n",
       "    }\n",
       "</style>\n",
       "<table border=\"1\" class=\"dataframe\">\n",
       "  <thead>\n",
       "    <tr style=\"text-align: right;\">\n",
       "      <th></th>\n",
       "      <th>0</th>\n",
       "      <th>1</th>\n",
       "      <th>2</th>\n",
       "      <th>3</th>\n",
       "    </tr>\n",
       "  </thead>\n",
       "  <tbody>\n",
       "    <tr>\n",
       "      <th>col_1</th>\n",
       "      <td>3</td>\n",
       "      <td>2</td>\n",
       "      <td>1</td>\n",
       "      <td>0</td>\n",
       "    </tr>\n",
       "    <tr>\n",
       "      <th>col_2</th>\n",
       "      <td>a</td>\n",
       "      <td>b</td>\n",
       "      <td>c</td>\n",
       "      <td>d</td>\n",
       "    </tr>\n",
       "  </tbody>\n",
       "</table>\n",
       "</div>"
      ],
      "text/plain": [
       "       0  1  2  3\n",
       "col_1  3  2  1  0\n",
       "col_2  a  b  c  d"
      ]
     },
     "execution_count": 2,
     "metadata": {},
     "output_type": "execute_result"
    }
   ],
   "source": [
    "pd.DataFrame.from_dict(data, orient=\"index\")"
   ]
  },
  {
   "cell_type": "code",
   "execution_count": 6,
   "id": "a725dad5-8bc7-4fc6-8a03-897a72cfe736",
   "metadata": {},
   "outputs": [
    {
     "data": {
      "text/html": [
       "<div>\n",
       "<style scoped>\n",
       "    .dataframe tbody tr th:only-of-type {\n",
       "        vertical-align: middle;\n",
       "    }\n",
       "\n",
       "    .dataframe tbody tr th {\n",
       "        vertical-align: top;\n",
       "    }\n",
       "\n",
       "    .dataframe thead th {\n",
       "        text-align: right;\n",
       "    }\n",
       "</style>\n",
       "<table border=\"1\" class=\"dataframe\">\n",
       "  <thead>\n",
       "    <tr style=\"text-align: right;\">\n",
       "      <th></th>\n",
       "      <th>A</th>\n",
       "      <th>B</th>\n",
       "      <th>C</th>\n",
       "      <th>D</th>\n",
       "    </tr>\n",
       "  </thead>\n",
       "  <tbody>\n",
       "    <tr>\n",
       "      <th>col_1</th>\n",
       "      <td>3</td>\n",
       "      <td>2</td>\n",
       "      <td>1</td>\n",
       "      <td>0</td>\n",
       "    </tr>\n",
       "    <tr>\n",
       "      <th>col_2</th>\n",
       "      <td>a</td>\n",
       "      <td>b</td>\n",
       "      <td>c</td>\n",
       "      <td>d</td>\n",
       "    </tr>\n",
       "  </tbody>\n",
       "</table>\n",
       "</div>"
      ],
      "text/plain": [
       "       A  B  C  D\n",
       "col_1  3  2  1  0\n",
       "col_2  a  b  c  d"
      ]
     },
     "execution_count": 6,
     "metadata": {},
     "output_type": "execute_result"
    }
   ],
   "source": [
    "##We can also specify column names\n",
    "pd.DataFrame.from_dict(data, orient=\"index\", columns=[\"A\", \"B\", \"C\", \"D\"])"
   ]
  },
  {
   "cell_type": "code",
   "execution_count": 7,
   "id": "edab3ec6-7ea7-40da-a414-0e0c90079003",
   "metadata": {},
   "outputs": [
    {
     "data": {
      "text/html": [
       "<div>\n",
       "<style scoped>\n",
       "    .dataframe tbody tr th:only-of-type {\n",
       "        vertical-align: middle;\n",
       "    }\n",
       "\n",
       "    .dataframe tbody tr th {\n",
       "        vertical-align: top;\n",
       "    }\n",
       "\n",
       "    .dataframe thead th {\n",
       "        text-align: right;\n",
       "    }\n",
       "</style>\n",
       "<table border=\"1\" class=\"dataframe\">\n",
       "  <thead>\n",
       "    <tr style=\"text-align: right;\">\n",
       "      <th></th>\n",
       "      <th>colour</th>\n",
       "      <th>size</th>\n",
       "    </tr>\n",
       "  </thead>\n",
       "  <tbody>\n",
       "    <tr>\n",
       "      <th>shirt</th>\n",
       "      <td>red</td>\n",
       "      <td>M</td>\n",
       "    </tr>\n",
       "    <tr>\n",
       "      <th>sweater</th>\n",
       "      <td>yellow</td>\n",
       "      <td>L</td>\n",
       "    </tr>\n",
       "    <tr>\n",
       "      <th>jacket</th>\n",
       "      <td>black</td>\n",
       "      <td>L</td>\n",
       "    </tr>\n",
       "  </tbody>\n",
       "</table>\n",
       "</div>"
      ],
      "text/plain": [
       "         colour size\n",
       "shirt       red    M\n",
       "sweater  yellow    L\n",
       "jacket    black    L"
      ]
     },
     "execution_count": 7,
     "metadata": {},
     "output_type": "execute_result"
    }
   ],
   "source": [
    "##\n",
    "clothes = {\"shirt\": [\"red\", \"M\"], \"sweater\": [\"yellow\", \"L\"], \"jacket\": [\"black\", \"L\"]}\n",
    "pd.DataFrame.from_dict(clothes, orient=\"index\",columns=[\"colour\",\"size\"])"
   ]
  },
  {
   "cell_type": "markdown",
   "id": "f6e2ecb6-85fc-4a7f-a512-127046998c26",
   "metadata": {},
   "source": [
    "JSON FILES"
   ]
  },
  {
   "cell_type": "code",
   "execution_count": null,
   "id": "2b3cc899-033e-4d45-a4d0-57fb200fcf5a",
   "metadata": {},
   "outputs": [],
   "source": [
    "#JSON is short for JavaScript Object Notation. It is another widely used data format to store and transfer the data. It is light-weight and very human readable. In Python, we can use the json library to read JSON files. Here is an example of a JSON string.\n"
   ]
  },
  {
   "cell_type": "code",
   "execution_count": 8,
   "id": "a2610bf1-fd92-4cb6-81c0-20648610d021",
   "metadata": {},
   "outputs": [
    {
     "name": "stdout",
     "output_type": "stream",
     "text": [
      "{\n",
      "    \"firstName\": \"Jane\",\n",
      "    \"lastName\": \"Doe\",\n",
      "    \"hobby\": \"running\",\n",
      "    \"age\": 35\n",
      "}\n"
     ]
    }
   ],
   "source": [
    "info = \"\"\"{\n",
    "    \"firstName\": \"Jane\",\n",
    "    \"lastName\": \"Doe\",\n",
    "    \"hobby\": \"running\",\n",
    "    \"age\": 35\n",
    "}\"\"\"\n",
    "print(info)"
   ]
  },
  {
   "cell_type": "markdown",
   "id": "86f197cc-29ae-4f9d-b30b-af9b1c7f62df",
   "metadata": {},
   "source": [
    "Use json library to load the json string into a Python dictionary:\n"
   ]
  },
  {
   "cell_type": "code",
   "execution_count": 9,
   "id": "0efcbe0b-e72b-4fa7-9004-2a6eda189b2a",
   "metadata": {},
   "outputs": [
    {
     "data": {
      "text/plain": [
       "{'firstName': 'Jane', 'lastName': 'Doe', 'hobby': 'running', 'age': 35}"
      ]
     },
     "execution_count": 9,
     "metadata": {},
     "output_type": "execute_result"
    }
   ],
   "source": [
    "import json\n",
    "\n",
    "data = json.loads(info)\n",
    "data"
   ]
  },
  {
   "cell_type": "markdown",
   "id": "b0561da2-e283-4215-8bc3-36811a931a1a",
   "metadata": {},
   "source": [
    "We can load a json string or file into a dictionary because they are organized in the same way: key-value pairs."
   ]
  },
  {
   "cell_type": "code",
   "execution_count": 10,
   "id": "3153f45d-f73e-478b-8ff4-4bc4f8db0e5a",
   "metadata": {},
   "outputs": [
    {
     "data": {
      "text/plain": [
       "'Jane'"
      ]
     },
     "execution_count": 10,
     "metadata": {},
     "output_type": "execute_result"
    }
   ],
   "source": [
    "data[\"firstName\"]"
   ]
  },
  {
   "cell_type": "markdown",
   "id": "c7cbd9d4-ae61-43e3-851c-de07b6a62e20",
   "metadata": {},
   "source": [
    "A dictionary may not be as convenient as a DataFrame in terms of data manipulation and cleaning. But once we've turned our json string into a dictionary, we can transform it into a DataFrame using the from_dict method"
   ]
  },
  {
   "cell_type": "code",
   "execution_count": 15,
   "id": "e5bc19f7-3fd3-4dc6-8b95-2351dcac1d56",
   "metadata": {},
   "outputs": [
    {
     "data": {
      "text/html": [
       "<div>\n",
       "<style scoped>\n",
       "    .dataframe tbody tr th:only-of-type {\n",
       "        vertical-align: middle;\n",
       "    }\n",
       "\n",
       "    .dataframe tbody tr th {\n",
       "        vertical-align: top;\n",
       "    }\n",
       "\n",
       "    .dataframe thead th {\n",
       "        text-align: right;\n",
       "    }\n",
       "</style>\n",
       "<table border=\"1\" class=\"dataframe\">\n",
       "  <thead>\n",
       "    <tr style=\"text-align: right;\">\n",
       "      <th></th>\n",
       "      <th>subject1</th>\n",
       "    </tr>\n",
       "  </thead>\n",
       "  <tbody>\n",
       "    <tr>\n",
       "      <th>firstName</th>\n",
       "      <td>Jane</td>\n",
       "    </tr>\n",
       "    <tr>\n",
       "      <th>lastName</th>\n",
       "      <td>Doe</td>\n",
       "    </tr>\n",
       "    <tr>\n",
       "      <th>hobby</th>\n",
       "      <td>running</td>\n",
       "    </tr>\n",
       "    <tr>\n",
       "      <th>age</th>\n",
       "      <td>35</td>\n",
       "    </tr>\n",
       "  </tbody>\n",
       "</table>\n",
       "</div>"
      ],
      "text/plain": [
       "          subject1\n",
       "firstName     Jane\n",
       "lastName       Doe\n",
       "hobby      running\n",
       "age             35"
      ]
     },
     "execution_count": 15,
     "metadata": {},
     "output_type": "execute_result"
    }
   ],
   "source": [
    "df=pd.DataFrame.from_dict(data,orient=\"index\", columns=[\"subject1\"])\n",
    "df"
   ]
  },
  {
   "cell_type": "code",
   "execution_count": null,
   "id": "6d58dcce-105a-4e15-ae4b-d1332914d50d",
   "metadata": {},
   "outputs": [],
   "source": [
    "clothes = \"\"\"{\"shirt\": [\"red\",\"M\"], \"sweater\": [\"yellow\",\"L\"]}\"\"\"\n",
    "\n",
    "\n",
    "data = ...\n",
    "df = ...\n",
    "df"
   ]
  },
  {
   "cell_type": "code",
   "execution_count": 16,
   "id": "c95a0b2d-3122-4786-89aa-d9e0d0b5cfc0",
   "metadata": {},
   "outputs": [
    {
     "data": {
      "text/plain": [
       "{'shirt': ['red', 'M'], 'sweater': ['yellow', 'L']}"
      ]
     },
     "execution_count": 16,
     "metadata": {},
     "output_type": "execute_result"
    }
   ],
   "source": [
    "##converting the clothes json file into a python dictionary\n",
    "clothes = \"\"\"{\"shirt\": [\"red\",\"M\"], \"sweater\": [\"yellow\",\"L\"]}\"\"\"\n",
    "import json\n",
    "\n",
    "data = json.loads(clothes)\n",
    "data"
   ]
  },
  {
   "cell_type": "code",
   "execution_count": 17,
   "id": "51a64b89-7e50-4d20-9175-39cec6e1c0dc",
   "metadata": {},
   "outputs": [
    {
     "data": {
      "text/html": [
       "<div>\n",
       "<style scoped>\n",
       "    .dataframe tbody tr th:only-of-type {\n",
       "        vertical-align: middle;\n",
       "    }\n",
       "\n",
       "    .dataframe tbody tr th {\n",
       "        vertical-align: top;\n",
       "    }\n",
       "\n",
       "    .dataframe thead th {\n",
       "        text-align: right;\n",
       "    }\n",
       "</style>\n",
       "<table border=\"1\" class=\"dataframe\">\n",
       "  <thead>\n",
       "    <tr style=\"text-align: right;\">\n",
       "      <th></th>\n",
       "      <th>colour</th>\n",
       "      <th>size</th>\n",
       "    </tr>\n",
       "  </thead>\n",
       "  <tbody>\n",
       "    <tr>\n",
       "      <th>shirt</th>\n",
       "      <td>red</td>\n",
       "      <td>M</td>\n",
       "    </tr>\n",
       "    <tr>\n",
       "      <th>sweater</th>\n",
       "      <td>yellow</td>\n",
       "      <td>L</td>\n",
       "    </tr>\n",
       "  </tbody>\n",
       "</table>\n",
       "</div>"
      ],
      "text/plain": [
       "         colour size\n",
       "shirt       red    M\n",
       "sweater  yellow    L"
      ]
     },
     "execution_count": 17,
     "metadata": {},
     "output_type": "execute_result"
    }
   ],
   "source": [
    "##converting the dictionary into a dataframe\n",
    "df=pd.DataFrame.from_dict(data, orient=\"index\",columns=['colour','size'])\n",
    "df"
   ]
  },
  {
   "cell_type": "code",
   "execution_count": null,
   "id": "59381d64-21d5-40b1-9106-6208a3b395ea",
   "metadata": {},
   "outputs": [],
   "source": [
    "##Reading data from compressed files. One way to unzip the data is to use gzip. We can load the poland-bankruptcy-data-2008.json.gz file from the data folder using the following code:"
   ]
  },
  {
   "cell_type": "code",
   "execution_count": null,
   "id": "bd6a02d4-4ce1-49ef-ae81-a5c925c9e9e1",
   "metadata": {},
   "outputs": [],
   "source": [
    "import gzip\n",
    "import json\n",
    "\n",
    "with gzip.open(\"data/poland-bankruptcy-data-2008.json.gz\", \"r\") as f:\n",
    "    poland_data_gz = json.load(f)#.load makes it a python dictionary"
   ]
  },
  {
   "cell_type": "code",
   "execution_count": null,
   "id": "3fd58319-d967-473f-8222-98d86e41178f",
   "metadata": {},
   "outputs": [],
   "source": [
    "#Use the from_dict function from pandas to read the data\n",
    "df = pd.DataFrame().from_dict(poland_data_gz[\"data\"])"
   ]
  },
  {
   "cell_type": "code",
   "execution_count": null,
   "id": "f1221cce-c48f-4d40-962f-4d13d91584bd",
   "metadata": {},
   "outputs": [],
   "source": [
    "df.head()  ##gives the first 5 rows"
   ]
  },
  {
   "cell_type": "code",
   "execution_count": null,
   "id": "534537d0-01da-4a68-b71b-5505f517549a",
   "metadata": {},
   "outputs": [],
   "source": [
    "##Exercise 2\n",
    "# Load file into dictionary\n",
    "import gzip\n",
    "import json\n",
    "\n",
    "with gzip.open(\"data/poland-bankruptcy-data-2007.json.gz\", \"r\") as file:\n",
    "    json_data=json.load(file)\n",
    "\n",
    "# Transform dictionary into DataFrame\n",
    "df = pd.DataFrame().from_dict(json_data[\"data\"])\n",
    "df.head()"
   ]
  },
  {
   "cell_type": "markdown",
   "id": "b7b5e6b9-0312-4fde-bda2-f2be185f5743",
   "metadata": {},
   "source": [
    "Pickle Files"
   ]
  },
  {
   "cell_type": "markdown",
   "id": "424d2344-6f16-49d1-84b8-3a20d80d9ecb",
   "metadata": {},
   "source": [
    "Pickle in Python is primarily used in serializing and deserializing a Python object structure. Serialization is the process of turning an object in memory into a stream of bytes so you can store it on disk or send it over a network. Deserialization is the reverse process: turning a stream of bytes back into an object in memory. Data that can be pickled are none,booleans,tuples,intergers,numbers,none etc"
   ]
  },
  {
   "cell_type": "code",
   "execution_count": null,
   "id": "b7b52fdb-2f37-4c9f-bb62-e7166f9ec52f",
   "metadata": {},
   "outputs": [],
   "source": []
  },
  {
   "cell_type": "code",
   "execution_count": null,
   "id": "dd107f79-f470-437b-9bb0-0b2e5de8f9d5",
   "metadata": {},
   "outputs": [],
   "source": []
  },
  {
   "cell_type": "markdown",
   "id": "c1c0e69f-6758-4156-8718-7f7369c0bd4e",
   "metadata": {},
   "source": [
    "Now that we have more observations, it doesn't make sense to calculate the price per square meter for each house one-by-one. Instead, we can automate this repetitive task using a for loop.\n"
   ]
  },
  {
   "cell_type": "code",
   "execution_count": null,
   "id": "06090539-4287-4bb4-8594-4fb6bdc1fe79",
   "metadata": {},
   "outputs": [],
   "source": [
    "##calculating the price per meter squared in items in a nested list\n",
    "for house in houses_nested_list:\n",
    "    price_per_square_meter=house[0]/house[1]\n",
    "    print(price_per_square_meter)"
   ]
  },
  {
   "cell_type": "code",
   "execution_count": null,
   "id": "98bc3853-6a36-4a7e-81da-d7c1ec8b2760",
   "metadata": {},
   "outputs": [],
   "source": [
    "##appending the price per meter squared in items in a nested list\n",
    "for house in houses_nested_list:\n",
    "    price_per_square_meter=house[0]/house[1]\n",
    "    house.append(price_per_square_meter)\n",
    "print(houses_nested_list)"
   ]
  },
  {
   "cell_type": "code",
   "execution_count": null,
   "id": "2644586c-6177-47ec-a594-989ca774a252",
   "metadata": {},
   "outputs": [],
   "source": [
    "###dictionaries\n",
    "house_0_dict = {\n",
    "    \"price_aprox_usd\": 115910.26,\n",
    "    \"surface_covered_in_m2\": 128,\n",
    "    \"rooms\": 4,\n",
    "}\n",
    "\n",
    "house_0_dict"
   ]
  },
  {
   "cell_type": "code",
   "execution_count": null,
   "id": "58a4ef8c-b618-45c5-8c2c-4f3f61bafad0",
   "metadata": {},
   "outputs": [],
   "source": [
    "##adding a value in a dictionary\n",
    "house_0_dict[\"price_per_m2\"] = house_0_dict[\"price_aprox_usd\"]/house_0_dict[\"surface_covered_in_m2\"]\n",
    "house_0_dict"
   ]
  },
  {
   "cell_type": "code",
   "execution_count": null,
   "id": "c0bc7ece-0768-49ec-8d38-b2fd09ce5d9f",
   "metadata": {},
   "outputs": [],
   "source": [
    "##JSON\n",
    "##creating a list of dictionaries\n",
    "houses_rowwise = [\n",
    "    {\n",
    "        \"price_aprox_usd\": 115910.26,\n",
    "        \"surface_covered_in_m2\": 128,\n",
    "        \"rooms\": 4,\n",
    "    },\n",
    "    {\n",
    "        \"price_aprox_usd\": 48718.17,\n",
    "        \"surface_covered_in_m2\": 210,\n",
    "        \"rooms\": 3,\n",
    "    },\n",
    "    {\n",
    "        \"price_aprox_usd\": 28977.56,\n",
    "        \"surface_covered_in_m2\": 58,\n",
    "        \"rooms\": 2,\n",
    "    },\n",
    "    {\n",
    "        \"price_aprox_usd\": 36932.27,\n",
    "        \"surface_covered_in_m2\": 79,\n",
    "        \"rooms\": 3,\n",
    "    },\n",
    "    {\n",
    "        \"price_aprox_usd\": 83903.51,\n",
    "        \"surface_covered_in_m2\": 111,\n",
    "        \"rooms\": 3,\n",
    "    },\n",
    "]\n",
    "\n",
    "houses_rowwise"
   ]
  },
  {
   "cell_type": "code",
   "execution_count": null,
   "id": "2b760526-6f23-4449-9b5a-fec0778a911c",
   "metadata": {},
   "outputs": [],
   "source": [
    "##calculating price per m2 in a dictionary\n",
    "for item in houses_rowwise:\n",
    "    item[\"price_per_m2\"] = item[\"price_aprox_usd\"]/item[\"surface_covered_in_m2\"]\n",
    "houses_rowwise"
   ]
  },
  {
   "cell_type": "code",
   "execution_count": null,
   "id": "890a05f3-9fb1-421e-8bf3-2b1a7ec3fbb5",
   "metadata": {},
   "outputs": [],
   "source": [
    "#calculating the mean house price : columnwise operations\n",
    "house_prices = []\n",
    "for house in houses_rowwise:\n",
    "    house_prices.append(house[\"price_aprox_usd\"])\n",
    "\n",
    "mean_house_price = sum(house_prices) / len(house_prices)\n",
    "mean_house_price"
   ]
  },
  {
   "cell_type": "code",
   "execution_count": null,
   "id": "bfd51069-4531-444b-b4ac-81f1d36c2e98",
   "metadata": {},
   "outputs": [],
   "source": [
    "#Alternatively use \n",
    "#One way to make this sort of calculation easier is to organize our data by features instead of observations. We'll still use dictionaries and lists, but we'll implement them a slightly differently."
   ]
  },
  {
   "cell_type": "code",
   "execution_count": 1,
   "id": "f449f7a1-7f37-444c-86f0-0fa8cff94c44",
   "metadata": {},
   "outputs": [
    {
     "data": {
      "text/plain": [
       "{'price_aprox_usd': [115910.26, 48718.17, 28977.56, 36932.27, 83903.51],\n",
       " 'surface_covered_in_m2': [128.0, 210.0, 58.0, 79.0, 111.0],\n",
       " 'rooms': [4.0, 3.0, 2.0, 3.0, 3.0]}"
      ]
     },
     "execution_count": 1,
     "metadata": {},
     "output_type": "execute_result"
    }
   ],
   "source": [
    "houses_columnwise = {\n",
    "    \"price_aprox_usd\": [115910.26, 48718.17, 28977.56, 36932.27, 83903.51],\n",
    "    \"surface_covered_in_m2\": [128.0, 210.0, 58.0, 79.0, 111.0],\n",
    "    \"rooms\": [4.0, 3.0, 2.0, 3.0, 3.0],\n",
    "}\n",
    "\n",
    "houses_columnwise"
   ]
  },
  {
   "cell_type": "code",
   "execution_count": 10,
   "id": "bca5768e-e31b-453e-9a9f-958539ce843b",
   "metadata": {},
   "outputs": [
    {
     "data": {
      "text/plain": [
       "117.2"
      ]
     },
     "execution_count": 10,
     "metadata": {},
     "output_type": "execute_result"
    }
   ],
   "source": [
    "##calculating the average area per m2\n",
    "average=houses_columnwise[\"surface_covered_in_m2\"]\n",
    "average_area_per_m2=sum(average)/len(average)\n",
    "average_area_per_m2"
   ]
  },
  {
   "cell_type": "code",
   "execution_count": null,
   "id": "54668708-f9ad-43c6-9b76-4ee9af6483e9",
   "metadata": {},
   "outputs": [],
   "source": [
    "#Create a \"price_per_m2\" column in houses_columnwise\n",
    "price=houses_columnwise[\"price_aprox_usd\"]\n",
    "area=houses_columnwise[\"surface_covered_in_m2\"]\n",
    "list(zip(price,area))\n",
    "price_list=[]\n",
    "for p, a in zip(price,area):\n",
    "    #print(\"price: \", p)\n",
    "    #print(\"area: \", a)\n",
    "    price_per_m2=p/a\n",
    "    price_list.append(price_per_m2)\n",
    "houses_columnwise[\"price_per_m2\"]=price_list\n",
    "print(houses_columnwise)"
   ]
  },
  {
   "cell_type": "markdown",
   "id": "2da81238-724c-4d9c-8474-ea8e9e3ff158",
   "metadata": {},
   "source": [
    "Tabular Data and pandas DataFrames"
   ]
  },
  {
   "cell_type": "code",
   "execution_count": null,
   "id": "1b379464-408f-47e7-8634-9b968e1d2b4d",
   "metadata": {},
   "outputs": [],
   "source": [
    "import pandas as pd\n",
    "\n",
    "data = {\n",
    "    \"price_aprox_usd\": [115910.26, 48718.17, 28977.56, 36932.27, 83903.51],\n",
    "    \"surface_covered_in_m2\": [128.0, 210.0, 58.0, 79.0, 111.0],\n",
    "    \"rooms\": [4.0, 3.0, 2.0, 3.0, 3.0],\n",
    "}\n",
    "\n",
    "df_houses = pd.DataFrame(data)\n",
    "\n",
    "df_houses"
   ]
  },
  {
   "cell_type": "markdown",
   "id": "d3240641-fe15-433c-9428-d0f658701625",
   "metadata": {},
   "source": [
    " Read these three files into three separate DataFrames named df1, df2, and df3, respectively"
   ]
  },
  {
   "cell_type": "code",
   "execution_count": null,
   "id": "2e2fbb0e-dcd6-436e-9400-e08782e83dc1",
   "metadata": {},
   "outputs": [],
   "source": [
    "df1 =pd.read_csv(\"data/mexico-real-estate-1.csv\")\n",
    "df2 = pd.read_csv(\"data/mexico-real-estate-2.csv\")\n",
    "df3 = pd.read_csv(\"data/mexico-real-estate-3.csv\")"
   ]
  },
  {
   "cell_type": "code",
   "execution_count": null,
   "id": "7b6695fe-c654-4931-b3d0-9e0da8c20d6a",
   "metadata": {},
   "outputs": [],
   "source": [
    "##data inspectation\n",
    "df1.shape  ##shows number of row and columns\n",
    "df2.shape\n",
    "df3.shape"
   ]
  },
  {
   "cell_type": "code",
   "execution_count": null,
   "id": "7b8e191c-08d6-4c99-a39a-e3703d9ed29c",
   "metadata": {},
   "outputs": [],
   "source": [
    "## checks for missing values\n",
    "df1.info()"
   ]
  },
  {
   "cell_type": "code",
   "execution_count": null,
   "id": "57f7115f-79f2-4c3b-9e62-2744541897bd",
   "metadata": {},
   "outputs": [],
   "source": [
    "## displays the first five rows\n",
    "df1.head()"
   ]
  },
  {
   "cell_type": "code",
   "execution_count": null,
   "id": "20e9fd88-5249-47fb-a6da-be080fc742b0",
   "metadata": {},
   "outputs": [],
   "source": [
    "##To visualize null values\n",
    "df1.isnull().sum()"
   ]
  },
  {
   "cell_type": "code",
   "execution_count": null,
   "id": "c5701838-22fd-4741-922b-56ea662bba3d",
   "metadata": {},
   "outputs": [],
   "source": [
    "##removing null values\n",
    "df1.dropna(inplace=True)## inplace =True makes changes to the existing data\n",
    "df1"
   ]
  },
  {
   "cell_type": "code",
   "execution_count": null,
   "id": "9db01257-69f6-440c-b5e3-5a5eb6b36d10",
   "metadata": {},
   "outputs": [],
   "source": [
    "## removing strings...converting a column from an object to a float\n",
    "df1[\"price_usd\"].str.replace(\"$\",\"\",regex=False).head() #str allows you to perform string operations"
   ]
  },
  {
   "cell_type": "code",
   "execution_count": null,
   "id": "d81eab72-a302-48ea-b8fe-5eac14076424",
   "metadata": {},
   "outputs": [],
   "source": [
    "##removing a comma ,\n",
    "df1[\"price_usd\"].str.replace(\"$\",\"\",regex=False).str.replace(\",\",\"\").head() "
   ]
  },
  {
   "cell_type": "code",
   "execution_count": null,
   "id": "517209ea-7312-4c95-a000-31e0075018c5",
   "metadata": {},
   "outputs": [],
   "source": [
    "###converting from an object to a float\n",
    "df1[\"price_usd\"].str.replace(\"$\",\"\",regex=False).str.replace(\",\",\"\").astype(float)"
   ]
  },
  {
   "cell_type": "code",
   "execution_count": null,
   "id": "ed4362d7-fb87-439b-9b6a-edac076a8483",
   "metadata": {},
   "outputs": [],
   "source": [
    "##transforming price to object\n",
    "df1[\"price_usd\"]=(df1[\"price_usd\"]\n",
    "                  .str.replace(\"$\",\"\",regex=False)\n",
    "                  .str.replace(\",\",\"\")\n",
    "                  .astype(float)\n",
    "                 )"
   ]
  },
  {
   "cell_type": "code",
   "execution_count": null,
   "id": "19138f4f-656e-4c9d-bd92-b7eeb297c8c3",
   "metadata": {},
   "outputs": [],
   "source": [
    "df1[\"price_usd\"]=(\n",
    "    df1[\"price_usd\"]\n",
    "    .str.replace(\"$\",\"\",regex=False)\n",
    "    .str.replace(\",\",\"\").astype(float)\n",
    ")"
   ]
  },
  {
   "cell_type": "code",
   "execution_count": null,
   "id": "f52d50b7-0850-45cb-bb04-eda7913f8762",
   "metadata": {},
   "outputs": [],
   "source": [
    "##convertion price_mxn to price usd\n",
    "df2[\"price_usd\"]=(df2[\"price_mxn\"]/19).round(2).head()"
   ]
  },
  {
   "cell_type": "code",
   "execution_count": null,
   "id": "c1409da2-0b9a-43ac-8581-f43483370d3c",
   "metadata": {},
   "outputs": [],
   "source": [
    "##dropping mxn column\n",
    "df2.drop(columns=[\"price_mxn\"],inplace=True)"
   ]
  },
  {
   "cell_type": "code",
   "execution_count": null,
   "id": "9f0dd441-3822-430b-80fd-d1d4d6dce8a0",
   "metadata": {},
   "outputs": [],
   "source": [
    "#dropping null values\n",
    "df3.dropna(inplace=True)\n",
    "#splitting a column\n",
    "df3[[\"lat\",\"lon\"]]=df3[\"lat-lon\"].str.split(\",\",expand = True).head() #expand puts the items in different lists\n",
    "df3"
   ]
  },
  {
   "cell_type": "code",
   "execution_count": null,
   "id": "f79bca10-987a-4bd8-8019-971734b34f7a",
   "metadata": {},
   "outputs": [],
   "source": [
    "##create state column from column with place with parent names\n",
    "df3[\"state\"]=df3[\"place_with_parent_names\"].str.split(\"|\",expand=True)[2]\n",
    "df3.head()"
   ]
  },
  {
   "cell_type": "code",
   "execution_count": null,
   "id": "b1fe3fdf-f84b-49b4-992a-3d9ba1a8fe3c",
   "metadata": {},
   "outputs": [],
   "source": [
    "##droping columns\n",
    "df3.drop(columns=[\"lat-lon\",\"place_with_parent_names\"],inplace=True)\n",
    "df3"
   ]
  },
  {
   "cell_type": "code",
   "execution_count": null,
   "id": "5ac8968e-8f98-42ea-8fea-03f1a7c293bb",
   "metadata": {},
   "outputs": [],
   "source": [
    "##concatinating dataframes #the default axis is vertical axis=0, horizontal = 1\n",
    "df = pd.concat([df1,df2,df3])\n",
    "print(df.shape)\n",
    "df.head()"
   ]
  },
  {
   "cell_type": "code",
   "execution_count": null,
   "id": "29efe3b9-2fd6-4712-a4ad-ab408fa26926",
   "metadata": {},
   "outputs": [],
   "source": [
    "#saving the concatenated dat into csv file\n",
    "df.to_csv(\"data/mexico-real-estate-clean.csv\",index=False) \n",
    "#index=false do not create an index column"
   ]
  },
  {
   "cell_type": "code",
   "execution_count": null,
   "id": "a333b520-121f-4475-ae90-cc11562b5d9c",
   "metadata": {},
   "outputs": [],
   "source": []
  },
  {
   "cell_type": "code",
   "execution_count": null,
   "id": "80a8c8f7-9539-4948-9b7d-5183bc65f107",
   "metadata": {},
   "outputs": [],
   "source": [
    "import matplotlib.pyplot as plt #for visualization\n",
    "import pandas as pd #for EDA\n",
    "import plotly.express as px #for visualizationm"
   ]
  },
  {
   "cell_type": "code",
   "execution_count": null,
   "id": "170902c1-f32f-427b-bab8-8ee38ffef045",
   "metadata": {},
   "outputs": [],
   "source": [
    "##generating a scatterplot\n",
    "fig = px.scatter_mapbox(\n",
    "    df,  # Our DataFrame\n",
    "    lat=\"lat\",\n",
    "    lon=\"lon\",\n",
    "    center={\"lat\": 19.43, \"lon\": -99.13},  # Map will be centered on Mexico City\n",
    "    width=600,  # Width of map\n",
    "    height=600,  # Height of map\n",
    "    hover_data=[\"price_usd\"],  # Display price when hovering mouse over house\n",
    ")\n",
    "\n",
    "fig.update_layout(mapbox_style=\"open-street-map\")\n",
    "\n",
    "fig.show()"
   ]
  },
  {
   "cell_type": "code",
   "execution_count": null,
   "id": "a7ca879a-100e-435b-aff2-8e6580d681d7",
   "metadata": {},
   "outputs": [],
   "source": [
    "##To get unique states in the state column \n",
    "df[\"state\"].unique()"
   ]
  },
  {
   "cell_type": "code",
   "execution_count": null,
   "id": "9d8a66fa-6f44-47cc-8779-116c8e9c9818",
   "metadata": {},
   "outputs": [],
   "source": [
    "##To get the number of unique states in the state column \n",
    "df[\"state\"].nunique()"
   ]
  },
  {
   "cell_type": "code",
   "execution_count": null,
   "id": "5595ab81-eca4-4c4c-b556-ffaaf6c0e352",
   "metadata": {},
   "outputs": [],
   "source": [
    "##To get the most common states in the dataset\n",
    "df[\"state\"].value_counts()"
   ]
  },
  {
   "cell_type": "code",
   "execution_count": null,
   "id": "bb1e17ab-3ac1-413f-8041-d7375072eb71",
   "metadata": {},
   "outputs": [],
   "source": [
    "##To get descriptive statistics for all numerical columns\n",
    "df.describe()"
   ]
  },
  {
   "cell_type": "code",
   "execution_count": null,
   "id": "9c51dbd3-5a53-4ba0-866a-335d11377db7",
   "metadata": {},
   "outputs": [],
   "source": [
    "##To get descriptive statistics to specific columns\n",
    "df[[\"area_m2\",\"price_usd\"]].describe()"
   ]
  },
  {
   "cell_type": "code",
   "execution_count": null,
   "id": "d9427109-951a-4d49-8d61-7f7fb3fba2a5",
   "metadata": {},
   "outputs": [],
   "source": [
    "##generating a histogram  (;) ignores the meta information\n",
    "plt.hist(df[\"area_m2\"])\n",
    "plt.xlabel(\"Area [sq meters]\")\n",
    "plt.ylabel(\"Frequency\")\n",
    "plt.title(\"Distribution of Home Sizes\");"
   ]
  },
  {
   "cell_type": "code",
   "execution_count": null,
   "id": "1927ae0f-25ed-4428-9024-be20dec1723e",
   "metadata": {},
   "outputs": [],
   "source": [
    "##generating a boxplot\n",
    "plt.boxplot(df[\"area_m2\"],vert=False)\n",
    "plt.xlabel(\"Area[sq meters]\")\n",
    "plt.title(\"Distribution of Home Sizes\");"
   ]
  },
  {
   "cell_type": "code",
   "execution_count": null,
   "id": "35bb3fa3-74e6-4ce0-8632-1046260145ee",
   "metadata": {},
   "outputs": [],
   "source": [
    "#generating a histogram for price_usd\n",
    "plt.hist(df[\"price_usd\"])\n",
    "plt.xlabel(\"Price [USD]\")\n",
    "plt.ylabel(\"Frequency\")\n",
    "plt.title(\"Distribution of Home Prices\");"
   ]
  },
  {
   "cell_type": "code",
   "execution_count": null,
   "id": "019d44d4-50f7-4a1a-b621-688acbfe9cab",
   "metadata": {},
   "outputs": [],
   "source": [
    "#generating a boxplot for price_usd\n",
    "plt.boxplot(df[\"price_usd\"],vert=False)\n",
    "plt.xlabel(\"Price [USD]\")\n",
    "plt.title(\"Distribution of Home Prices\");"
   ]
  },
  {
   "cell_type": "markdown",
   "id": "0e23def2-b38b-47a4-8a34-dcda4287a1f3",
   "metadata": {},
   "source": [
    "##grouping the data by states\n",
    "mean_price_by_state = df.groupby(\"state\")[\"price_usd\"].mean().sort_values(ascending=False)\n",
    "mean_price_by_state"
   ]
  },
  {
   "cell_type": "code",
   "execution_count": null,
   "id": "9896c2fd-0bb8-4341-9ea5-18ddb750df2d",
   "metadata": {},
   "outputs": [],
   "source": [
    "##creating a bar chart using pandas\n",
    "mean_price_by_state.plot(\n",
    "    kind=\"bar\",\n",
    "    xlabel=\"State\",\n",
    "    ylabel=\"Mean Price [USD]\",\n",
    "    title=\"Mean House Price by State\"\n",
    ");"
   ]
  },
  {
   "cell_type": "markdown",
   "id": "026d0124-66be-40ab-bce6-09e09f3dca4d",
   "metadata": {},
   "source": [
    "To create a Series where the index contains each state in the dataset and the values correspond to the mean house price per m2 for that state then draw a bar chart"
   ]
  },
  {
   "cell_type": "code",
   "execution_count": null,
   "id": "db5652bc-ea5c-489f-a02a-e2389d727c0d",
   "metadata": {},
   "outputs": [],
   "source": [
    "\n",
    "(\n",
    "    df\n",
    "    .groupby(\"state\")\n",
    "    [\"price_per_m2\"].mean()\n",
    "    .sort_values(ascending=False)\n",
    "    .plot(\n",
    "        kind = \"bar\",\n",
    "        xlabel=\"State\",\n",
    "        ylabel=\"Mean Price per M^2[USD]\",\n",
    "        title=\"Mean House Price per M^2 by State\"\n",
    "    )\n",
    ");"
   ]
  },
  {
   "cell_type": "code",
   "execution_count": null,
   "id": "72393cd4-43a5-4ab1-bf26-0b52ae5f7d1b",
   "metadata": {},
   "outputs": [],
   "source": [
    "## generating a scatterplot using matplotlib\n",
    "plt.scatter(x=df[\"area_m2\"], y=df[\"price_usd\"])\n",
    "plt.xlabel(\"area_m2\")\n",
    "plt.ylabel(\"price_usd\")\n",
    "plt.title(\"Price vs Area\");"
   ]
  },
  {
   "cell_type": "code",
   "execution_count": null,
   "id": "f5287bc7-bf5c-4d9e-9d6e-fc8664e67c0f",
   "metadata": {},
   "outputs": [],
   "source": [
    "##correlation between two columns area and price\n",
    "p_correlation = df[\"area_m2\"].corr(df[\"price_usd\"])\n",
    "print(p_correlation)"
   ]
  },
  {
   "cell_type": "code",
   "execution_count": null,
   "id": "5b2254dd-5e36-4759-a8a9-b98781faa811",
   "metadata": {},
   "outputs": [],
   "source": [
    "##selecting data from only one state\n",
    "df_morelos = df[df[\"state\"]==\"Morelos\"]\n",
    "df_morelos.head()"
   ]
  },
  {
   "cell_type": "code",
   "execution_count": null,
   "id": "1572aa5b-7df1-4b47-b993-e4e2900f0702",
   "metadata": {},
   "outputs": [],
   "source": [
    "##scatterplot\n",
    "plt.scatter(x=df_morelos[\"area_m2\"],y=df_morelos[\"price_usd\"]);\n",
    "plt.xlabel(\"Area[sq meters]\")\n",
    "plt.ylabel(\"Price[USD]\")\n",
    "plt.title(\"Morelos: Price vs Area\")"
   ]
  },
  {
   "cell_type": "code",
   "execution_count": null,
   "id": "f0364ef4-568a-48b8-942f-5763a9359875",
   "metadata": {},
   "outputs": [],
   "source": [
    "#correlation\n",
    "p_correlation = df_morelos[\"price_usd\"].corr(df_morelos[\"area_m2\"])\n",
    "print(p_correlation)\n"
   ]
  },
  {
   "cell_type": "code",
   "execution_count": null,
   "id": "1ea7f20c-8b33-4771-92a1-6837309875a9",
   "metadata": {},
   "outputs": [],
   "source": [
    "# Subset `df` to include only observations from `\"Distrito Federal\"`\n",
    "df_mexico_city = df[df[\"state\"]==\"Distrito Federal\"]\n",
    "\n",
    "\n",
    "# Create a scatter plot price vs area\n",
    "plt.scatter(x=df_mexico_city[\"area_m2\"],y=df_mexico_city[\"price_usd\"])\n",
    "plt.xlabel(\"Area[sq meters]\")\n",
    "plt.ylabel(\"Price[USD]\")\n",
    "plt.title(\"Mexico City: Price vs. Area\");\n",
    "\n",
    "p_correlation = df_mexico_city[\"price_usd\"].corr(df_mexico_city[\"area_m2\"])\n",
    "print(p_correlation)"
   ]
  },
  {
   "cell_type": "code",
   "execution_count": null,
   "id": "ed9fcb2b-1300-4feb-af9f-183d69ee6940",
   "metadata": {},
   "outputs": [],
   "source": []
  }
 ],
 "metadata": {
  "kernelspec": {
   "display_name": "Python 3 (ipykernel)",
   "language": "python",
   "name": "python3"
  },
  "language_info": {
   "codemirror_mode": {
    "name": "ipython",
    "version": 3
   },
   "file_extension": ".py",
   "mimetype": "text/x-python",
   "name": "python",
   "nbconvert_exporter": "python",
   "pygments_lexer": "ipython3",
   "version": "3.9.7"
  }
 },
 "nbformat": 4,
 "nbformat_minor": 5
}
