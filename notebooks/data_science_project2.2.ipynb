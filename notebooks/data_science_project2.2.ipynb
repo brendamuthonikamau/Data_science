{
 "cells": [
  {
   "cell_type": "code",
   "execution_count": null,
   "id": "2686d9b2-a7cd-41e8-bcac-34b23d77a2fb",
   "metadata": {},
   "outputs": [],
   "source": [
    "def wrangle(filepath):\n",
    "    # Read CSV file\n",
    "    df = pd.read_csv(filepath)\n",
    "\n",
    "    # Subset data: Apartments in \"Capital Federal\", less than 400,000\n",
    "    mask_ba = df[\"place_with_parent_names\"].str.contains(\"Capital Federal\")\n",
    "    mask_apt = df[\"property_type\"] == \"apartment\"\n",
    "    mask_price = df[\"price_aprox_usd\"] < 400_000\n",
    "    df = df[mask_ba & mask_apt & mask_price]\n",
    "\n",
    "    # Subset data: Remove outliers for \"surface_covered_in_m2\"\n",
    "    low, high = df[\"surface_covered_in_m2\"].quantile([0.1, 0.9])\n",
    "    mask_area = df[\"surface_covered_in_m2\"].between(low, high)\n",
    "    df = df[mask_area]\n",
    "    df[[\"lat\",\"lon\"]] = df[\"lat-lon\"].str.split(\",\", expand = True).astype(float).info()\n",
    "    df.drop(columns=\"lat-lon\",inplace=True)\n",
    "    \n",
    "    return df"
   ]
  },
  {
   "cell_type": "code",
   "execution_count": null,
   "id": "84964ea5-f6fb-4e33-b8d0-d977b8699b72",
   "metadata": {},
   "outputs": [],
   "source": [
    "##Use your wrangle function to create a DataFrame frame1 from the CSV file data/buenos-aires-real-estate-1.csv.\n",
    "frame1 = wrangle(\"data/buenos-aires-real-estate-1.csv\")\n",
    "print(frame1.info())\n",
    "frame1.head()"
   ]
  },
  {
   "cell_type": "code",
   "execution_count": null,
   "id": "30a5c489-036e-4eea-a48f-f541fcad1e65",
   "metadata": {},
   "outputs": [],
   "source": [
    "###concatinating two dataframes\n",
    "df = pd.concat([frame1,frame2], ignore_index=True) #ignore_index removes the existing indexes\n",
    "print(df.info())\n",
    "df.head()"
   ]
  },
  {
   "cell_type": "code",
   "execution_count": null,
   "id": "109573df-3076-48b1-a851-9770ea61edce",
   "metadata": {},
   "outputs": [],
   "source": [
    "## multiple linear regression\n",
    "#have more than two features"
   ]
  },
  {
   "cell_type": "code",
   "execution_count": null,
   "id": "4ca19d33-481d-4f54-87e1-1436b86753ec",
   "metadata": {},
   "outputs": [],
   "source": [
    "## splitting"
   ]
  },
  {
   "cell_type": "code",
   "execution_count": null,
   "id": "1f7a5c26-84ac-4eb5-b805-11e8190a6f2a",
   "metadata": {},
   "outputs": [],
   "source": [
    "##Create the feature matrix named X_train. It should contain two features: [\"lon\", \"lat\"]\n",
    "features=[\"lat\",\"lon\"]\n",
    "X_train=df[features]\n",
    "X_train"
   ]
  },
  {
   "cell_type": "code",
   "execution_count": null,
   "id": "2390f19f-c165-42fb-9414-0dd492d890c2",
   "metadata": {},
   "outputs": [],
   "source": [
    "##Create the target vector named y_train, which you'll use to train your model. Your target should be \"price_aprox_usd\". Remember that, in most cases, your target vector should be one-dimensional."
   ]
  },
  {
   "cell_type": "code",
   "execution_count": null,
   "id": "316b9460-8632-4ba6-a15d-89b105f6efa4",
   "metadata": {},
   "outputs": [],
   "source": [
    "target = \"price_aprox_usd\"\n",
    "y_train = df[target]\n",
    "y_train"
   ]
  },
  {
   "cell_type": "code",
   "execution_count": null,
   "id": "83750b3e-85bd-4aff-962d-cc027eba9172",
   "metadata": {},
   "outputs": [],
   "source": [
    "##Calculate the mean of your target vector y_train and assign it to the variable y_mean\n",
    "y_mean = y_train.mean()\n",
    "y_mean"
   ]
  },
  {
   "cell_type": "code",
   "execution_count": null,
   "id": "bef61c5f-1522-4c27-9a51-175f3045eca5",
   "metadata": {},
   "outputs": [],
   "source": [
    "## Create a list named y_pred_baseline that contains the value of y_mean repeated so that it's the same length at y_train.\n",
    "y_pred_baseline = [y_mean] * len(y_train)\n",
    "y_pred_baseline[:5]"
   ]
  },
  {
   "cell_type": "code",
   "execution_count": null,
   "id": "d2191a8f-d920-4176-8a6d-312299e7286a",
   "metadata": {},
   "outputs": [],
   "source": [
    "## Calculate the baseline mean absolute error for your predictions in y_pred_baseline as compared to the true targets in y_train\n",
    "mae_baseline = mean_absolute_error(y_train, y_pred_baseline)\n",
    "\n",
    "print(\"Mean apt price\", round(y_mean, 2))\n",
    "print(\"Baseline MAE:\", round(mae_baseline, 2))"
   ]
  },
  {
   "cell_type": "code",
   "execution_count": null,
   "id": "9f673038-316c-4c90-84a2-9dcb27fb82cd",
   "metadata": {},
   "outputs": [],
   "source": [
    "##we can fill in these missing values using information we get from the whole column — a process called imputation\n",
    "##instatiating an imputer\n",
    "imputer = SimpleImputer()"
   ]
  },
  {
   "cell_type": "code",
   "execution_count": null,
   "id": "98b12419-d3f5-419f-b224-0cac118b478b",
   "metadata": {},
   "outputs": [],
   "source": [
    "##Fit your transformer imputer to the feature matrix X.\n",
    "imputer.fit(X_train)"
   ]
  },
  {
   "cell_type": "code",
   "execution_count": null,
   "id": "227720d5-aca1-4503-b0b6-71d8630d6cff",
   "metadata": {},
   "outputs": [],
   "source": [
    "# Check your work\n",
    "check_is_fitted(imputer)"
   ]
  },
  {
   "cell_type": "code",
   "execution_count": null,
   "id": "09319c6f-259d-4941-8d0e-2702d65f7f18",
   "metadata": {},
   "outputs": [],
   "source": [
    "##Here's where transformers diverge from predictors. Instead of using a method like predict, we use the transform method. This is the step where the transformer fills in the missing values with the means it's calculated. "
   ]
  },
  {
   "cell_type": "code",
   "execution_count": null,
   "id": "a83ce5cc-42d9-4ddf-98d5-3176b2dfe950",
   "metadata": {},
   "outputs": [],
   "source": [
    "## Use your imputer to transform the feature matrix X_train. Assign the transformed data to the variable XT_train\n",
    "XT_train = imputer.transform(X_train)\n",
    "pd.DataFrame(XT_train, columns=X_train.columns).info()"
   ]
  },
  {
   "cell_type": "code",
   "execution_count": null,
   "id": "62a688d0-8b66-4cbc-8688-669925323e39",
   "metadata": {},
   "outputs": [],
   "source": [
    "##Create a pipeline named model that contains a SimpleImputer transformer followed by a LinearRegression predictor.\n",
    "model = make_pipeline(\n",
    "    SimpleImputer(),\n",
    "    LinearRegression()\n",
    ")"
   ]
  },
  {
   "cell_type": "code",
   "execution_count": null,
   "id": "38e28d91-7a95-40cd-b0b0-4944f0051ee7",
   "metadata": {},
   "outputs": [],
   "source": [
    "##With our pipeline assembled, we use the fit method, which will train the transformer, transform the data, then pass the transformed data to the predictor for training, all in one step\n"
   ]
  },
  {
   "cell_type": "code",
   "execution_count": null,
   "id": "6adff045-8a74-4d81-ab78-e8aac51ab5c4",
   "metadata": {},
   "outputs": [],
   "source": [
    "## Fit your model to the data, X_train and y_train\n",
    "model.fit(X_train,y_train)"
   ]
  },
  {
   "cell_type": "code",
   "execution_count": null,
   "id": "7affb3c6-29a2-4c98-87fb-8c40ba8fe127",
   "metadata": {},
   "outputs": [],
   "source": [
    "##Using your model's predict method, create a list of predictions for the observations in your feature matrix X_train\n",
    "y_pred_training = model.predict(X_train)"
   ]
  },
  {
   "cell_type": "code",
   "execution_count": null,
   "id": "a770da4a-d5d5-4595-ada2-44e525b818a3",
   "metadata": {},
   "outputs": [],
   "source": [
    "##Calculate the training mean absolute error for your predictions in y_pred_training as compared to the true targets in y_train\n",
    "mae_training = mean_absolute_error(y_train,y_pred_training)\n",
    "print(\"Training MAE:\", round(mae_training, 2))"
   ]
  },
  {
   "cell_type": "code",
   "execution_count": null,
   "id": "7f6563eb-1a39-44cc-80b3-dee1b9d2733c",
   "metadata": {},
   "outputs": [],
   "source": [
    "## import your test data buenos-aires-test-features.csv into a DataFrame and generate a Series of predictions using your model\n",
    "X_test = pd.read_csv(\"data/buenos-aires-test-features.csv\")[features]\n",
    "y_pred_test = pd.Series(model.predict(X_test))\n",
    "y_pred_test.head()"
   ]
  },
  {
   "cell_type": "code",
   "execution_count": null,
   "id": "29830d8f-ba24-494a-8660-bce2d734690a",
   "metadata": {},
   "outputs": [],
   "source": [
    "##represent our linear model in a 3D plot\n",
    "# Create 3D scatter plot\n",
    "fig = px.scatter_3d(\n",
    "    df,\n",
    "    x=\"lon\",\n",
    "    y=\"lat\",\n",
    "    z=\"price_aprox_usd\",\n",
    "    labels={\"lon\": \"longitude\", \"lat\": \"latitude\", \"price_aprox_usd\": \"price\"},\n",
    "    width=600,\n",
    "    height=500,\n",
    ")\n",
    "\n",
    "# Create x and y coordinates for model representation\n",
    "x_plane = np.linspace(df[\"lon\"].min(), df[\"lon\"].max(), 10)\n",
    "y_plane = np.linspace(df[\"lat\"].min(), df[\"lat\"].max(), 10)\n",
    "xx, yy = np.meshgrid(x_plane, y_plane)\n",
    "\n",
    "# Use model to predict z coordinates\n",
    "z_plane = model.predict(pd.DataFrame({\"lon\": x_plane, \"lat\": y_plane}))\n",
    "zz = np.tile(z_plane, (10, 1))\n",
    "\n",
    "# Add plane to figure\n",
    "fig.add_trace(go.Surface(x=xx, y=yy, z=zz))\n",
    "\n",
    "# Refine formatting\n",
    "fig.update_traces(\n",
    "    marker={\"size\": 4, \"line\": {\"width\": 2, \"color\": \"DarkSlateGrey\"}},\n",
    "    selector={\"mode\": \"markers\"},\n",
    ")\n",
    "\n",
    "# Display figure\n",
    "fig.show()"
   ]
  },
  {
   "cell_type": "code",
   "execution_count": null,
   "id": "25519e13-5085-45d7-962b-7c8fa1f320f6",
   "metadata": {},
   "outputs": [],
   "source": []
  }
 ],
 "metadata": {
  "kernelspec": {
   "display_name": "Python 3 (ipykernel)",
   "language": "python",
   "name": "python3"
  },
  "language_info": {
   "codemirror_mode": {
    "name": "ipython",
    "version": 3
   },
   "file_extension": ".py",
   "mimetype": "text/x-python",
   "name": "python",
   "nbconvert_exporter": "python",
   "pygments_lexer": "ipython3",
   "version": "3.9.7"
  }
 },
 "nbformat": 4,
 "nbformat_minor": 5
}
