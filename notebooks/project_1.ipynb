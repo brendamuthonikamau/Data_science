{
 "cells": [
  {
   "cell_type": "markdown",
   "id": "e72698e3-9a25-42b4-a91b-f5215ebbff69",
   "metadata": {},
   "source": [
    "Housing in Brazil"
   ]
  },
  {
   "cell_type": "code",
   "execution_count": null,
   "id": "5820e8a4-bf86-41d8-b7ed-d85d6bb03aab",
   "metadata": {},
   "outputs": [],
   "source": []
  }
 ],
 "metadata": {
  "kernelspec": {
   "display_name": "Python 3 (ipykernel)",
   "language": "python",
   "name": "python3"
  },
  "language_info": {
   "codemirror_mode": {
    "name": "ipython",
    "version": 3
   },
   "file_extension": ".py",
   "mimetype": "text/x-python",
   "name": "python",
   "nbconvert_exporter": "python",
   "pygments_lexer": "ipython3",
   "version": "3.9.7"
  }
 },
 "nbformat": 4,
 "nbformat_minor": 5
}
